{
 "cells": [
  {
   "cell_type": "markdown",
   "id": "bcdf3ab8",
   "metadata": {},
   "source": [
    "# Normal Numpy script"
   ]
  },
  {
   "cell_type": "code",
   "execution_count": 1,
   "id": "226d88fc",
   "metadata": {},
   "outputs": [],
   "source": [
    "import logging\n",
    "import sys\n",
    "import numpy as np\n",
    "from sklearn.metrics.pairwise import cosine_similarity\n",
    "from cosine_similarity_top_k.profiling import get_memory, get_time\n",
    "from cosine_similarity_top_k.plotting import plot_memory, plot_time\n",
    "from cosine_similarity_top_k.cosine_similarity_top_k import cosine_similarity_top_k, get_memory_available, warm_up_chunked_dot"
   ]
  },
  {
   "cell_type": "code",
   "execution_count": 2,
   "id": "985c2e18",
   "metadata": {},
   "outputs": [],
   "source": [
    "warm_up_chunked_dot()"
   ]
  },
  {
   "cell_type": "code",
   "execution_count": 3,
   "id": "4c164371",
   "metadata": {},
   "outputs": [],
   "source": [
    "logging.basicConfig(level=logging.DEBUG, stream=sys.stdout)"
   ]
  },
  {
   "cell_type": "code",
   "execution_count": 4,
   "id": "71fe478c",
   "metadata": {},
   "outputs": [
    {
     "data": {
      "text/plain": [
       "21.154803712"
      ]
     },
     "execution_count": 4,
     "metadata": {},
     "output_type": "execute_result"
    }
   ],
   "source": [
    "get_memory_available() / 1E9"
   ]
  },
  {
   "cell_type": "code",
   "execution_count": 5,
   "id": "52e7203d",
   "metadata": {},
   "outputs": [
    {
     "data": {
      "text/plain": [
       "25000.0"
      ]
     },
     "execution_count": 5,
     "metadata": {},
     "output_type": "execute_result"
    }
   ],
   "source": [
    "import math\n",
    "M = 5E9\n",
    "math.sqrt(M / 8)"
   ]
  },
  {
   "cell_type": "code",
   "execution_count": null,
   "id": "8c17edf2",
   "metadata": {
    "scrolled": true
   },
   "outputs": [
    {
     "name": "stdout",
     "output_type": "stream",
     "text": [
      "\n",
      "N: 100000 - 1/10\n",
      "\n",
      "\tCustom memory\n",
      "DEBUG:cosine_similarity_top_k.cosine_similarity_top_k:Memory available: 20.03 GB\n",
      "DEBUG:cosine_similarity_top_k.cosine_similarity_top_k:Using memory: 20.00 GB\n",
      "DEBUG:cosine_similarity_top_k.cosine_similarity_top_k:Number of threads: 16\n",
      "DEBUG:cosine_similarity_top_k.cosine_similarity_top_k:Chunk size per thread: 768\n",
      "\t 18.693675867 18.693675867\n",
      "\n",
      "\tCustom time\n",
      "DEBUG:cosine_similarity_top_k.cosine_similarity_top_k:Memory available: 20.72 GB\n",
      "DEBUG:cosine_similarity_top_k.cosine_similarity_top_k:Using memory: 20.00 GB\n",
      "DEBUG:cosine_similarity_top_k.cosine_similarity_top_k:Number of threads: 16\n",
      "DEBUG:cosine_similarity_top_k.cosine_similarity_top_k:Chunk size per thread: 768\n",
      "\t 51.086509598999996\n",
      "\n",
      "N: 200000 - 2/10\n",
      "\n",
      "\tCustom memory\n",
      "DEBUG:cosine_similarity_top_k.cosine_similarity_top_k:Memory available: 20.53 GB\n",
      "DEBUG:cosine_similarity_top_k.cosine_similarity_top_k:Using memory: 20.00 GB\n",
      "DEBUG:cosine_similarity_top_k.cosine_similarity_top_k:Number of threads: 16\n",
      "DEBUG:cosine_similarity_top_k.cosine_similarity_top_k:Chunk size per thread: 378\n",
      "\t 19.274214557 19.274214557\n",
      "\n",
      "\tCustom time\n",
      "DEBUG:cosine_similarity_top_k.cosine_similarity_top_k:Memory available: 21.50 GB\n",
      "DEBUG:cosine_similarity_top_k.cosine_similarity_top_k:Using memory: 20.00 GB\n",
      "DEBUG:cosine_similarity_top_k.cosine_similarity_top_k:Number of threads: 16\n",
      "DEBUG:cosine_similarity_top_k.cosine_similarity_top_k:Chunk size per thread: 378\n",
      "\t 235.58581698400002\n",
      "\n",
      "N: 300000 - 3/10\n",
      "\n",
      "\tCustom memory\n",
      "DEBUG:cosine_similarity_top_k.cosine_similarity_top_k:Memory available: 21.46 GB\n",
      "DEBUG:cosine_similarity_top_k.cosine_similarity_top_k:Using memory: 20.00 GB\n",
      "DEBUG:cosine_similarity_top_k.cosine_similarity_top_k:Number of threads: 16\n",
      "DEBUG:cosine_similarity_top_k.cosine_similarity_top_k:Chunk size per thread: 247\n",
      "\t 17.973608937 17.973608937\n",
      "\n",
      "\tCustom time\n",
      "DEBUG:cosine_similarity_top_k.cosine_similarity_top_k:Memory available: 20.52 GB\n",
      "DEBUG:cosine_similarity_top_k.cosine_similarity_top_k:Using memory: 20.00 GB\n",
      "DEBUG:cosine_similarity_top_k.cosine_similarity_top_k:Number of threads: 16\n",
      "DEBUG:cosine_similarity_top_k.cosine_similarity_top_k:Chunk size per thread: 247\n",
      "\t 486.9476819020001\n",
      "\n",
      "N: 400000 - 4/10\n",
      "\n",
      "\tCustom memory\n",
      "DEBUG:cosine_similarity_top_k.cosine_similarity_top_k:Memory available: 20.71 GB\n",
      "DEBUG:cosine_similarity_top_k.cosine_similarity_top_k:Using memory: 20.00 GB\n",
      "DEBUG:cosine_similarity_top_k.cosine_similarity_top_k:Number of threads: 16\n",
      "DEBUG:cosine_similarity_top_k.cosine_similarity_top_k:Chunk size per thread: 182\n",
      "\t 17.321898881 17.321898881\n",
      "\n",
      "\tCustom time\n",
      "DEBUG:cosine_similarity_top_k.cosine_similarity_top_k:Memory available: 19.81 GB\n",
      "DEBUG:cosine_similarity_top_k.cosine_similarity_top_k:Using memory: 20.00 GB\n",
      "DEBUG:cosine_similarity_top_k.cosine_similarity_top_k:Number of threads: 16\n",
      "DEBUG:cosine_similarity_top_k.cosine_similarity_top_k:Chunk size per thread: 182\n"
     ]
    },
    {
     "name": "stderr",
     "output_type": "stream",
     "text": [
      "/Users/agundrod/personal/cosine_similarity_top_k/cosine_similarity_top_k/cosine_similarity_top_k.py:47: UserWarning: Requested memory to use 20.00 is bigger than 95% of the system's available memory 19.81.\n",
      "  warnings.warn(message)\n"
     ]
    },
    {
     "name": "stdout",
     "output_type": "stream",
     "text": [
      "\t 900.758530351\n",
      "\n",
      "N: 500000 - 5/10\n",
      "\n",
      "\tCustom memory\n",
      "DEBUG:cosine_similarity_top_k.cosine_similarity_top_k:Memory available: 20.18 GB\n",
      "DEBUG:cosine_similarity_top_k.cosine_similarity_top_k:Using memory: 20.00 GB\n",
      "DEBUG:cosine_similarity_top_k.cosine_similarity_top_k:Number of threads: 16\n",
      "DEBUG:cosine_similarity_top_k.cosine_similarity_top_k:Chunk size per thread: 143\n",
      "\t 17.308008249 17.308008249\n",
      "\n",
      "\tCustom time\n",
      "DEBUG:cosine_similarity_top_k.cosine_similarity_top_k:Memory available: 20.26 GB\n",
      "DEBUG:cosine_similarity_top_k.cosine_similarity_top_k:Using memory: 20.00 GB\n",
      "DEBUG:cosine_similarity_top_k.cosine_similarity_top_k:Number of threads: 16\n",
      "DEBUG:cosine_similarity_top_k.cosine_similarity_top_k:Chunk size per thread: 143\n",
      "\t 1420.8756491470003\n",
      "\n",
      "N: 600000 - 6/10\n",
      "\n",
      "\tCustom memory\n",
      "DEBUG:cosine_similarity_top_k.cosine_similarity_top_k:Memory available: 19.06 GB\n",
      "DEBUG:cosine_similarity_top_k.cosine_similarity_top_k:Using memory: 20.00 GB\n",
      "DEBUG:cosine_similarity_top_k.cosine_similarity_top_k:Number of threads: 16\n",
      "DEBUG:cosine_similarity_top_k.cosine_similarity_top_k:Chunk size per thread: 117\n"
     ]
    },
    {
     "name": "stderr",
     "output_type": "stream",
     "text": [
      "/Users/agundrod/personal/cosine_similarity_top_k/cosine_similarity_top_k/cosine_similarity_top_k.py:47: UserWarning: Requested memory to use 20.00 is bigger than 95% of the system's available memory 19.06.\n",
      "  warnings.warn(message)\n"
     ]
    },
    {
     "name": "stdout",
     "output_type": "stream",
     "text": [
      "\t 15.566407274 15.566407274\n",
      "\n",
      "\tCustom time\n",
      "DEBUG:cosine_similarity_top_k.cosine_similarity_top_k:Memory available: 17.77 GB\n",
      "DEBUG:cosine_similarity_top_k.cosine_similarity_top_k:Using memory: 20.00 GB\n",
      "DEBUG:cosine_similarity_top_k.cosine_similarity_top_k:Number of threads: 16\n",
      "DEBUG:cosine_similarity_top_k.cosine_similarity_top_k:Chunk size per thread: 117\n"
     ]
    },
    {
     "name": "stderr",
     "output_type": "stream",
     "text": [
      "/Users/agundrod/personal/cosine_similarity_top_k/cosine_similarity_top_k/cosine_similarity_top_k.py:47: UserWarning: Requested memory to use 20.00 is bigger than 95% of the system's available memory 17.77.\n",
      "  warnings.warn(message)\n"
     ]
    },
    {
     "name": "stdout",
     "output_type": "stream",
     "text": [
      "\t 2109.7868845880002\n",
      "\n",
      "N: 700000 - 7/10\n",
      "\n",
      "\tCustom memory\n",
      "DEBUG:cosine_similarity_top_k.cosine_similarity_top_k:Memory available: 17.26 GB\n",
      "DEBUG:cosine_similarity_top_k.cosine_similarity_top_k:Using memory: 20.00 GB\n",
      "DEBUG:cosine_similarity_top_k.cosine_similarity_top_k:Number of threads: 16\n",
      "DEBUG:cosine_similarity_top_k.cosine_similarity_top_k:Chunk size per thread: 99\n"
     ]
    },
    {
     "name": "stderr",
     "output_type": "stream",
     "text": [
      "/Users/agundrod/personal/cosine_similarity_top_k/cosine_similarity_top_k/cosine_similarity_top_k.py:47: UserWarning: Requested memory to use 20.00 is bigger than 95% of the system's available memory 17.26.\n",
      "  warnings.warn(message)\n"
     ]
    }
   ],
   "source": [
    "embedding_size = 100\n",
    "max_n_items = 1E6\n",
    "top_k = 100\n",
    "max_memory_to_use = 20E9\n",
    "\n",
    "step = int(max_n_items / 10)\n",
    "n_items = range(step, int(max_n_items) + 1, step)\n",
    "numba_function_kwargs = {\"top_k\": top_k, \"max_memory_to_use\": max_memory_to_use, \"force_memory\": True}\n",
    "\n",
    "max_memory = {\n",
    "    \"numpy\": [],\n",
    "    \"numba\": []\n",
    "}\n",
    "matrix_memory = {\n",
    "    \"numpy\": [],\n",
    "    \"numba\": []\n",
    "}\n",
    "execution_time = {\n",
    "    \"numpy\": [],\n",
    "    \"numba\": []\n",
    "}\n",
    "for i, n in enumerate(n_items):\n",
    "    print(f\"\\nN: {n} - {i + 1}/{len(n_items)}\")\n",
    "    if n > 50000:\n",
    "        max_size, matrix_size, _time = None, None, None\n",
    "    else:\n",
    "        print(\"\\n\\tSklean memory\")\n",
    "        max_size, matrix_size = get_memory(cosine_similarity, n_items=n, embedding_size=embedding_size)\n",
    "        print(\"\\n\\tSklean time\")\n",
    "        _time = get_time(cosine_similarity, n_items=n, embedding_size=embedding_size, n_iterations=1)\n",
    "    max_memory[\"numpy\"].append(max_size), matrix_memory[\"numpy\"].append(matrix_size), execution_time[\"numpy\"].append(_time)\n",
    "    \n",
    "    print(\"\\n\\tCustom memory\")\n",
    "    max_size, matrix_size = get_memory(cosine_similarity_top_k, n_items=n, embedding_size=embedding_size, function_kwargs=numba_function_kwargs)\n",
    "    print(\"\\t\", max_size / 1E9, max_size / 1E9)\n",
    "    print(\"\\n\\tCustom time\")\n",
    "    _time = get_time(cosine_similarity_top_k, n_items=n, embedding_size=embedding_size, function_kwargs=numba_function_kwargs, n_iterations=1)\n",
    "    print(\"\\t\", _time)\n",
    "    max_memory[\"numba\"].append(max_size), matrix_memory[\"numba\"].append(matrix_size), execution_time[\"numba\"].append(_time)"
   ]
  },
  {
   "cell_type": "code",
   "execution_count": null,
   "id": "1680fdf7",
   "metadata": {},
   "outputs": [],
   "source": [
    "import pandas as pd\n",
    "\n",
    "dfs = {\n",
    "    \"max_memory (GB)\": pd.DataFrame.from_dict(max_memory) / 1E9,\n",
    "    \"matrix_memory (GB)\": pd.DataFrame.from_dict(matrix_memory) / 1E9,\n",
    "    \"execution_time (s)\": pd.DataFrame.from_dict(execution_time),\n",
    "}\n",
    "df = pd.concat(dfs.values(), keys=dfs.keys(), axis=1)\n",
    "df = df.assign(n_items=n_items, embedding_size=embedding_size, max_memory_to_use_GB=int(max_memory_to_use / 1E9), top_k=top_k).set_index(\"n_items\")\n",
    "df"
   ]
  },
  {
   "cell_type": "code",
   "execution_count": null,
   "id": "da087e89",
   "metadata": {},
   "outputs": [],
   "source": [
    "df.to_csv(f\"metrics_embedding_size-{embedding_size}_top_k-{top_k}_max_memory_to_use-{int(max_memory_to_use / 1E9)}GB.csv\")"
   ]
  },
  {
   "cell_type": "code",
   "execution_count": null,
   "id": "1f0f64b0",
   "metadata": {},
   "outputs": [],
   "source": [
    "# plot_memory(n_items, max_memory, matrix_memory)\n",
    "# plt.show()\n",
    "# plot_time(n_items, execution_time)\n",
    "# plt.show()"
   ]
  },
  {
   "cell_type": "code",
   "execution_count": null,
   "id": "0f312b12",
   "metadata": {},
   "outputs": [],
   "source": [
    "# from matplotlib import pyplot as plt\n",
    "# %matplotlib inline\n",
    "\n",
    "# n_items_big = range(0, int(1E6) + 1, int(1E5))\n",
    "# plt.figure(facecolor='white')\n",
    "# plt.scatter(n_items_big, [8 * n**2 / 1E9 for n in n_items_big], color=\"green\", marker=\"*\", label=\"Memory in GB\")\n",
    "# plt.legend(loc=\"upper left\")\n",
    "# plt.show()\n",
    "\n",
    "# plt.figure(facecolor='white')\n",
    "# coeff_2, coeff_1, coeff_0 = np.polyfit(n_items, execution_time, 2)\n",
    "# plt.scatter(n_items_big, [(coeff_0 + coeff_1 * n + coeff_2 * n **2) / 3600 for n in n_items_big], color=\"green\", marker=\"*\", label=\"Hours\")\n",
    "# plt.legend(loc=\"upper left\")\n",
    "# plt.show()\n",
    "\n",
    "# coeff_2, coeff_1, coeff_0 = np.polyfit(n_items, execution_time, 2)\n"
   ]
  },
  {
   "cell_type": "markdown",
   "id": "e812a054",
   "metadata": {},
   "source": [
    "$\n",
    "\\begin{bmatrix}\n",
    "a_1 & a_2 & a_3 \\\\\n",
    "b_1 & b_2 & b_3 \\\\\n",
    "c_1 & c_2 & c_3 \\\\\n",
    "... & ... & ... \\\\\n",
    "z_1 & z_2 & z_3 \n",
    "\\end{bmatrix}_{n_{items} \\times M}\n",
    "$"
   ]
  },
  {
   "cell_type": "markdown",
   "id": "44b6f0ca",
   "metadata": {},
   "source": [
    "$\n",
    "\\begin{bmatrix}\n",
    "a_1 & a_2 & a_3 \\\\\n",
    "b_1 & b_2 & b_3 \\\\\n",
    "c_1 & c_2 & c_3 \\\\\n",
    "... & ... & ... \\\\\n",
    "z_1 & z_2 & z_3 \n",
    "\\end{bmatrix}_{n_{items} \\times M}\n",
    "\\times\n",
    "\\begin{bmatrix}\n",
    "a_1 & b_1 & c_1 & ... & z_1 \\\\\n",
    "a_2 & b_2 & c_2 & ... & z_2 \\\\\n",
    "a_3 & b_3 & c_3 & ... & z_3\n",
    "\\end{bmatrix}_{M \\times n_{items} }\n",
    "=\n",
    "\\begin{bmatrix}\n",
    "a \\cdot a & a \\cdot b & a \\cdot c & ... & a \\cdot z \\\\\n",
    "b \\cdot a & b \\cdot b & b \\cdot c & ... & b \\cdot z \\\\\n",
    "c \\cdot a & c \\cdot b & c \\cdot c & ... & c \\cdot z \\\\\n",
    "... & ... & ... & ... & ... \\\\\n",
    "z \\cdot a & z \\cdot b & z \\cdot c & ... & z \\cdot z \\\\\n",
    "\\end{bmatrix}_{n_{items} \\times n_{items}}\n",
    "\\leftarrow\\text{Similarity Matrix}\n",
    "$"
   ]
  },
  {
   "cell_type": "markdown",
   "id": "192cf879",
   "metadata": {},
   "source": [
    "$\n",
    "\\begin{bmatrix}\n",
    "a_1 & a_2 & a_3 \\\\\n",
    "b_1 & b_2 & b_3 \\\\\n",
    "... & ... & ... \\\\\n",
    "k_1 & k_2 & k_3 \n",
    "\\end{bmatrix}\n",
    "\\times\n",
    "\\begin{bmatrix}\n",
    "a_1 & b_1 & c_1 & ... & z_1 \\\\\n",
    "a_2 & b_2 & c_2 & ... & z_2 \\\\\n",
    "a_3 & b_3 & c_3 & ... & z_3 \\\\\n",
    "\\end{bmatrix}\n",
    "=\n",
    "\\begin{bmatrix}\n",
    "a \\cdot a & a \\cdot b & a \\cdot c & ... & a \\cdot z \\\\\n",
    "b \\cdot a & b \\cdot b & b \\cdot c & ... & b \\cdot z \\\\\n",
    "... & ... & ... & ... & ... \\\\\n",
    "k \\cdot a & k \\cdot b & k \\cdot c & ... & k \\cdot z \\\\\n",
    "\\end{bmatrix}_{n_{items} \\times n_{items}}\n",
    "\\leftarrow\\text{Similarity Matrix}\n",
    "\\\\\n",
    "\\begin{bmatrix}\n",
    "k_1 & k_2 & k_3 \\\\\n",
    "l_1 & l_2 & l_3 \\\\\n",
    "... & ... & ... \\\\\n",
    "z_1 & z_2 & z_3 \n",
    "\\end{bmatrix}\n",
    "\\times\n",
    "\\begin{bmatrix}\n",
    "a_1 & b_1 & c_1 & ... & z_1 \\\\\n",
    "a_2 & b_2 & c_2 & ... & z_2 \\\\\n",
    "a_3 & b_3 & c_3 & ... & z_3 \\\\\n",
    "\\end{bmatrix}\n",
    "=\n",
    "\\begin{bmatrix}\n",
    "k \\cdot a & k \\cdot b & k \\cdot c & ... & k \\cdot z \\\\\n",
    "l \\cdot a & l \\cdot b & l \\cdot c & ... & l \\cdot z \\\\\n",
    "... & ... & ... & ... & ... \\\\\n",
    "z \\cdot a & z \\cdot b & z \\cdot c & ... & z \\cdot z \\\\\n",
    "\\end{bmatrix}_{n_{items} \\times n_{items}}\n",
    "\\leftarrow\\text{Similarity Matrix}\n",
    "$"
   ]
  },
  {
   "cell_type": "code",
   "execution_count": null,
   "id": "0bcfa2f9",
   "metadata": {},
   "outputs": [],
   "source": [
    "def memory_cosine_similarity_top_k(n_items, embedding_size, top_k, chunk_size, n_threads):\n",
    "    sparse_matrix_memory = (n_items * top_k) * 2 + n_items  # data + indices + indptr\n",
    "    per_thread_memory = (chunk_size * n_items) * 2 * n_threads  # (chunk dot product result + argpartition output matrix) x number of threads\n",
    "    return (sparse_matrix_memory + per_thread_memory) * 8 / 1E9\n",
    "\n",
    "chunk_size = 2981\n",
    "n_items = 1E6\n",
    "embedding_size = 100\n",
    "top_k = 100\n",
    "n_threads = 1\n",
    "memory_cosine_similarity_top_k(n_items, embedding_size, top_k, chunk_size, n_threads)"
   ]
  },
  {
   "cell_type": "code",
   "execution_count": null,
   "id": "9499b275",
   "metadata": {},
   "outputs": [],
   "source": []
  },
  {
   "cell_type": "code",
   "execution_count": null,
   "id": "fa54c975",
   "metadata": {},
   "outputs": [],
   "source": []
  }
 ],
 "metadata": {
  "kernelspec": {
   "display_name": "Python 3 (ipykernel)",
   "language": "python",
   "name": "python3"
  },
  "language_info": {
   "codemirror_mode": {
    "name": "ipython",
    "version": 3
   },
   "file_extension": ".py",
   "mimetype": "text/x-python",
   "name": "python",
   "nbconvert_exporter": "python",
   "pygments_lexer": "ipython3",
   "version": "3.9.11"
  }
 },
 "nbformat": 4,
 "nbformat_minor": 5
}
