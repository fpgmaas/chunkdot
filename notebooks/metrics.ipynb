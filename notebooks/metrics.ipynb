{
 "cells": [
  {
   "cell_type": "markdown",
   "id": "bcdf3ab8",
   "metadata": {},
   "source": [
    "# Collect data from runs"
   ]
  },
  {
   "cell_type": "code",
   "execution_count": null,
   "id": "226d88fc",
   "metadata": {},
   "outputs": [],
   "source": [
    "import logging\n",
    "import sys\n",
    "import numpy as np\n",
    "from sklearn.metrics.pairwise import cosine_similarity\n",
    "from profiling import get_memory, get_time\n",
    "from chunkdot.cosine_similarity_top_k import cosine_similarity_top_k\n",
    "from chunkdot.utils import get_memory_available, warm_up_chunked_dot"
   ]
  },
  {
   "cell_type": "code",
   "execution_count": null,
   "id": "985c2e18",
   "metadata": {},
   "outputs": [],
   "source": [
    "warm_up_chunked_dot()"
   ]
  },
  {
   "cell_type": "code",
   "execution_count": null,
   "id": "4c164371",
   "metadata": {},
   "outputs": [],
   "source": [
    "logging.basicConfig(level=logging.DEBUG, stream=sys.stdout)"
   ]
  },
  {
   "cell_type": "code",
   "execution_count": null,
   "id": "71fe478c",
   "metadata": {},
   "outputs": [],
   "source": [
    "get_memory_available() / 1E9"
   ]
  },
  {
   "cell_type": "code",
   "execution_count": null,
   "id": "52e7203d",
   "metadata": {},
   "outputs": [],
   "source": [
    "import math\n",
    "M = 5E9\n",
    "math.sqrt(M / 8)"
   ]
  },
  {
   "cell_type": "code",
   "execution_count": null,
   "id": "8c17edf2",
   "metadata": {
    "scrolled": true
   },
   "outputs": [],
   "source": [
    "embedding_dim = 256\n",
    "max_n_items = 1E5\n",
    "top_k = 100\n",
    "max_memory_to_use = 10E9\n",
    "n_steps = 10\n",
    "\n",
    "step = int(max_n_items / n_steps)\n",
    "n_items = range(step, int(max_n_items) + 1, step)\n",
    "numba_function_kwargs = {\"top_k\": top_k, \"max_memory\": max_memory_to_use, \"force_memory\": True}\n",
    "\n",
    "max_memory = {\n",
    "    \"sklearn\": [],\n",
    "    \"chunkdot\": []\n",
    "}\n",
    "matrix_memory = {\n",
    "    \"sklearn\": [],\n",
    "    \"chunkdot\": []\n",
    "}\n",
    "execution_time = {\n",
    "    \"sklearn\": [],\n",
    "    \"chunkdot\": []\n",
    "}\n",
    "for i, n in enumerate(n_items):\n",
    "    print(f\"\\nN: {n} - {i + 1}/{len(n_items)}\")\n",
    "    if n > 50000:\n",
    "        print(\"\\n\\tSklean memory: Skipped\")\n",
    "        print(\"\\n\\tSklean time: Skipped\")\n",
    "        max_size, matrix_size, _time = None, None, None\n",
    "    else:\n",
    "        print(\"\\n\\tSklean memory\")\n",
    "        max_size, matrix_size = get_memory(cosine_similarity, n_items=n, embedding_dim=embedding_dim)\n",
    "        print(f\"\\tMax:{max_size / 1E9:0.2f}GB  Matrix:{matrix_size / 1E9:0.2f}GB\")\n",
    "        print(\"\\n\\tSklean time\")\n",
    "        _time = get_time(cosine_similarity, n_items=n, embedding_dim=embedding_dim, n_iterations=1)\n",
    "        print(f\"\\t{_time:0.2f} sec\")\n",
    "    max_memory[\"sklearn\"].append(max_size), matrix_memory[\"sklearn\"].append(matrix_size), execution_time[\"sklearn\"].append(_time)\n",
    "    \n",
    "    print(\"\\n\\tChunkDot memory\")\n",
    "    max_size, matrix_size = get_memory(cosine_similarity_top_k, n_items=n, embedding_dim=embedding_dim, function_kwargs=numba_function_kwargs)\n",
    "    print(f\"\\tMax:{max_size / 1E9:0.2f}GB  Matrix:{matrix_size / 1E9:0.2f}GB\")\n",
    "    print(\"\\n\\tChunkDot time\")\n",
    "    _time = get_time(cosine_similarity_top_k, n_items=n, embedding_dim=embedding_dim, function_kwargs=numba_function_kwargs, n_iterations=1)\n",
    "    print(f\"\\t{_time:0.2f} sec\")\n",
    "    max_memory[\"chunkdot\"].append(max_size), matrix_memory[\"chunkdot\"].append(matrix_size), execution_time[\"chunkdot\"].append(_time)"
   ]
  },
  {
   "cell_type": "code",
   "execution_count": null,
   "id": "1680fdf7",
   "metadata": {},
   "outputs": [],
   "source": [
    "import pandas as pd\n",
    "max_memory_to_use_GB = int(max_memory_to_use / 1E9)\n",
    "\n",
    "dfs = {\n",
    "    \"max_memory (GB)\": pd.DataFrame.from_dict(max_memory) / 1E9,\n",
    "    \"matrix_memory (GB)\": pd.DataFrame.from_dict(matrix_memory) / 1E9,\n",
    "    \"execution_time (s)\": pd.DataFrame.from_dict(execution_time),\n",
    "}\n",
    "df = pd.concat(dfs.values(), keys=dfs.keys(), axis=1)\n",
    "df = df.assign(n_items=n_items, embedding_dim=embedding_dim, max_memory_to_use_GB=max_memory_to_use_GB, top_k=top_k).set_index(\"n_items\")\n",
    "df.to_csv(f\"metrics_embedding_dim-{embedding_dim}-top_k-{top_k}-max_memory_to_use-{max_memory_to_use_GB}GB.csv\")\n",
    "df"
   ]
  },
  {
   "cell_type": "code",
   "execution_count": null,
   "id": "9499b275",
   "metadata": {},
   "outputs": [],
   "source": []
  },
  {
   "cell_type": "code",
   "execution_count": null,
   "id": "fa54c975",
   "metadata": {},
   "outputs": [],
   "source": []
  }
 ],
 "metadata": {
  "kernelspec": {
   "display_name": "Python 3 (ipykernel)",
   "language": "python",
   "name": "python3"
  },
  "language_info": {
   "codemirror_mode": {
    "name": "ipython",
    "version": 3
   },
   "file_extension": ".py",
   "mimetype": "text/x-python",
   "name": "python",
   "nbconvert_exporter": "python",
   "pygments_lexer": "ipython3",
   "version": "3.9.11"
  }
 },
 "nbformat": 4,
 "nbformat_minor": 5
}
